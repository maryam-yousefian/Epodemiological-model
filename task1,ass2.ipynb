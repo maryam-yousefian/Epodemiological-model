{
 "cells": [
  {
   "cell_type": "code",
   "execution_count": 1,
   "id": "2b72b996",
   "metadata": {},
   "outputs": [
    {
     "name": "stderr",
     "output_type": "stream",
     "text": [
      "/Users/maryamyousefian/opt/anaconda3/lib/python3.8/site-packages/numpy/core/_asarray.py:171: VisibleDeprecationWarning: Creating an ndarray from ragged nested sequences (which is a list-or-tuple of lists-or-tuples-or ndarrays with different lengths or shapes) is deprecated. If you meant to do this, you must specify 'dtype=object' when creating the ndarray.\n",
      "  return array(a, dtype, copy=False, order=order, subok=True)\n"
     ]
    },
    {
     "data": {
      "image/png": "[encoded data removed]",
      "text/plain": [
       "<Figure size 432x288 with 3 Axes>"
      ]
     },
     "metadata": {
      "needs_background": "light"
     },
     "output_type": "display_data"
    },
    {
     "data": {
      "image/png": "[encoded data removed]",
      "text/plain": [
       "<Figure size 432x288 with 1 Axes>"
      ]
     },
     "metadata": {
      "needs_background": "light"
     },
     "output_type": "display_data"
    },
    {
     "name": "stdout",
     "output_type": "stream",
     "text": [
      "infections that died out: 682 and the probability that the infection is still ongoing at T = 10:  0.31799999999999995\n"
     ]
    },
    {
     "data": {
      "image/png": "[encoded data removed]",
      "text/plain": [
       "<Figure size 432x288 with 1 Axes>"
      ]
     },
     "metadata": {
      "needs_background": "light"
     },
     "output_type": "display_data"
    },
    {
     "name": "stdout",
     "output_type": "stream",
     "text": [
      "died individuals on average (± standard deviation): 9.329 ± 7.055831559780888\n"
     ]
    }
   ],
   "source": [
    "#Task number one, Epodemiological model\n",
    "#student name: Maryam yousefian\n",
    "\n",
    "# part(a): Write a program implementing this model and generate trajectories using the SSA:\n",
    "# part (b): Plot the trajectories for N = 3 simulations up to time T = 10.\n",
    "\n",
    "# part(c): Perform N = 1000 simulations, generate a histogram of the number of x2 at time T = 10 and depict \n",
    "#the probability that 0, . . . , 20 individuals are infected by T = 10.\n",
    "## QUESTION: What is the probability that the infection is still ongoing at T = 10?\n",
    "\n",
    "# part(d): From the N = 1000 simulations, generate a histogram of the number of x4 at time T = 10 (number of \n",
    "#casualties), depicting the probability that 0, . . . , 35 individuals \n",
    "#died by T = 10. \n",
    "## QUESTION: How many individuals died on average (± standard deviation)?\n",
    "\n",
    "#import the required libraries:\n",
    "import numpy as np\n",
    "import matplotlib.pyplot as plt\n",
    "from scipy.integrate import odeint\n",
    "\n",
    "#Parameter values are:\n",
    "lamda=1*10**-4\n",
    "delta=1*10**-8\n",
    "beta=5*10**-5\n",
    "kr=0.3\n",
    "\n",
    "#define the gilespie SSA function:\n",
    "def gilespie_epodemiological(x0,tf):\n",
    "\n",
    "    #stoichiometric vector:\n",
    "    Nr=np.array([[1, 0, 0, 0],[-1, 0, 0, 0],[-1, 1, 0, 0],[0, -1, 0, 1],[0, -1, 1, 0],[0, 0, -1, 0]])\n",
    "    #Nr=np.array([[1, -1, -1, 0, 0, 0],[0, 0, 1, -1, -1, 0],[0, 0, 0, 1, 0, 0],[0, 0, 0, 0, 1, -1]])\n",
    "    #Nr= np.transpose(Nr) \n",
    "    \n",
    "    #current state and time:\n",
    "    x=x0\n",
    "    t=0\n",
    "    #create lists to save the visited states and times:\n",
    "    tvec=[] \n",
    "    #append the previous time to the created list tvec:\n",
    "    tvec.append(t) \n",
    "    X=[]\n",
    "    #append the visited states to the created list X:\n",
    "    X.append(x0) \n",
    "                   \n",
    "    i=1\n",
    "    while (t<tf):\n",
    "        \n",
    "        i=i+1\n",
    "        \n",
    "        #propensities based on what I calculated on paper:\n",
    "        alpha=np.array([lamda,delta*x[0],beta*x[0]*x[1],(3*10**7)*delta*x[1],kr*x[1],delta*x[2]])\n",
    "        \n",
    "        for j in range(0,6,1):\n",
    "            #remove unfeasible reactions(negative copy numbers):\n",
    "            if (np.amin(x+Nr[j])<0): \n",
    "                alpha[j]=0\n",
    "        #total reaction intensity\n",
    "        W=np.sum(alpha)\n",
    "        if (W==0):\n",
    "            #warning('negative copy number occurs')\n",
    "            break \n",
    "        if (W>0):\n",
    "            # tau calculation, the time that the next reaction happens: \n",
    "            tau=-np.log(np.random.uniform(0,1,1))/W  \n",
    "            Wrand=W*np.random.uniform(0,1,1)\n",
    "            r=np.searchsorted(np.cumsum(alpha),Wrand)\n",
    "            \n",
    "            # put while loop to ignore the non-feasible ractions when alpha is zero:\n",
    "            while alpha[r]==0:   \n",
    "                r=r+1\n",
    "            #update state vector using Nr:\n",
    "            x_new=x+Nr[r]    \n",
    "            x=x_new[0,:]\n",
    "            \n",
    "            #update the time by calculating the tau:\n",
    "            t=t+tau \n",
    "            \n",
    "            #append the new state and time to previous created lists X and tvec:\n",
    "            X.append(x)\n",
    "            tvec.append(t)\n",
    "            \n",
    "    return X,tvec\n",
    "\n",
    "#initial value setting:\n",
    "x0=[lamda/delta,5,0,0]\n",
    "\n",
    "#final simulation time determination:\n",
    "tf=10\n",
    "\n",
    "# generate the first figure with 3 plots:\n",
    "for traj in range(1,4,1):   \n",
    "    xx,tt=gilespie_epodemiological(x0,tf)\n",
    "    plt.subplot(3,1,traj)\n",
    "    plt.plot(tt,xx)\n",
    "    plt.yscale('log')\n",
    "    plt.xlim(0,tf)\n",
    "    plt.xlabel('time')\n",
    "    plt.ylabel('states')\n",
    "plt.show()\n",
    "x2=np.zeros(1000)\n",
    "x4=np.zeros(1000)\n",
    "for traj in range (0,1000,1):  \n",
    "    xx,tt=gilespie_epodemiological(x0,tf)\n",
    "    y=np.array(xx[len(tt)-1]).reshape((1,4))\n",
    "    x2[traj]=y[0][1]\n",
    "    x4[traj]=y[0][3]\n",
    "    \n",
    "# generate the second figure it is a histogram belongs to the num of x2:\n",
    "bins=np.linspace(min(x2)-0.5,max(x2)+0.5,int(max(x2)-min(x2)+2))\n",
    "plt.hist(x2,bins,density=True,label='x2',color = \"lightblue\", ec=\"red\", lw=2)\n",
    "plt.title('A histogram of the number of x2')\n",
    "plt.show()\n",
    "#probabilities:\n",
    "num_zeros=len(np.where(x2==0)[0])\n",
    "prob=1-num_zeros/len(x2)\n",
    "print('infections that died out:',num_zeros,\n",
    "      'and the probability that the infection is still ongoing at T = 10: ',prob)\n",
    "\n",
    "# generate the last figure is a histogram belongs to the num of x4:\n",
    "bins=np.linspace(min(x4)-0.5,max(x4)+0.5,int(max(x4)-min(x4)+2))\n",
    "plt.hist(x4,bins,density=True,label='x4',color = \"lightblue\", ec=\"yellow\", lw=2)\n",
    "plt.title('A histogram of the number of x4')\n",
    "plt.show()\n",
    "print('died individuals on average (± standard deviation):',np.mean(x4),'±',np.std(x4))"
   ]
  },
  {
   "cell_type": "code",
   "execution_count": null,
   "id": "1db772e7",
   "metadata": {},
   "outputs": [],
   "source": []
  }
 ],
 "metadata": {
  "kernelspec": {
   "display_name": "Python 3",
   "language": "python",
   "name": "python3"
  },
  "language_info": {
   "codemirror_mode": {
    "name": "ipython",
    "version": 3
   },
   "file_extension": ".py",
   "mimetype": "text/x-python",
   "name": "python",
   "nbconvert_exporter": "python",
   "pygments_lexer": "ipython3",
   "version": "3.8.8"
  }
 },
 "nbformat": 4,
 "nbformat_minor": 5
}
